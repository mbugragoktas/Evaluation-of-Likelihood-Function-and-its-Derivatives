{
 "cells": [
  {
   "cell_type": "markdown",
   "metadata": {},
   "source": [
    "## EVAL.G: evaluation of likelihood function and its derivatives"
   ]
  },
  {
   "cell_type": "code",
   "execution_count": 2,
   "metadata": {},
   "outputs": [],
   "source": [
    "import numpy as np\n",
    "import math as math\n",
    "import cmath"
   ]
  },
  {
   "cell_type": "code",
   "execution_count": 5,
   "metadata": {},
   "outputs": [],
   "source": [
    "def eval_():\n",
    "    \n",
    "    #EVALUATE PROBABILITY OF KEEPING BUS ENGINE AT EACH SAMPLE POINT\n",
    "    lp = pk[dt[:,1]-1,:]\n",
    "    \n",
    "    if i < 0:\n",
    "        \n",
    "        #Go to Bypass\n",
    "        print(\"Go to Bypass\")\n",
    "\n",
    "        \n",
    "    #COMPUTE DERIVATIVES OF LOGLIKELIHOOD FUNCTION\n",
    "    \n",
    "    #CASE 1: ESTIMATE FULL LIKELIHOOD BUT NOT bet\n",
    "    \n",
    "    if (modnum[[2,3]].flatten() == np.array([[2,0]])).all():\n",
    "            \n",
    "        d1v = np.concatenate([(-np.ones(nt,1)), dc[dt[:,1]-1,:], np.zeros(nt, modnum[4]) ])\n",
    "        \n",
    "    \n",
    "    #CASE 2: ESTIMATE FULL LIKELIHOOD AND BET\n",
    "    \n",
    "    elif (modnum[[2,3]].flatten() == np.array([[2,1]])).all():\n",
    "        \n",
    "        d1v = np.concatenate([(-np.ones((nt,1))), (dc[dt[:,1]-1,:]), (-bet*(1-bet)*(ev[0,0]-ev[dt[:,1]-1,:])),\n",
    "                              np.zeros((nt,int(modnum[4])))], axis=1)        \n",
    "        \n",
    "    \n",
    "    \n",
    "    #CASE 3: ESTIMATE PARTIAL LIKELIHOOD BUT NOT bet\n",
    "    \n",
    "    elif (modnum[[2,3]].flatten() == np.array([[1,0]])).all():\n",
    "    \n",
    "        d1v = np.concatenate([-np.ones((nt,1)), dc[dt[:,1]-1,:]], axis=1)\n",
    "        \n",
    "   \n",
    "    #CASE 4: ESTIMATE PARTIAL LIKELIHOOD AND bet\n",
    "    \n",
    "    elif (modnum[[2,3]].flatten() == np.array([[1,1]])).all():\n",
    "        \n",
    "        d1v = np.concatenate([-np.ones((nt,1)), dc[dt[:,1]-1,:], (-bet*(1-bet)*(ev[0,0]-ev[dt[:,1]-1,:]))])\n",
    "    \n",
    "    \n",
    "    #ADD ON DERIVATIVES OF EXPECTED VALUE FUNCTION, BYPASS IF bet=0 \n",
    "    \n",
    "    if bet == 0:\n",
    "        \n",
    "        d1v = d1v *(lp-1+dt[:,0].reshape(dt.shape[0],1))            \n",
    "        \n",
    "        if modnum[2]==2:\n",
    "            \n",
    "            g = dm - modnum[4] + 1\n",
    "            \n",
    "            d1v[:,(g-1):dm] = invp[dt[:,2],:]\n",
    "            \n",
    "        \n",
    "        print(\"Go to Cumulate\")\n",
    "        #GOTO CUMULATE\n",
    "        \n",
    "   \n",
    "    #FIRST TWO DERIVATIVES (tr,c1) ARE SAME FOR ALL MODELS\n",
    "    \n",
    "    d1v[:,0:2] = (d1v[:,0:2]+dev[0,0:2]*np.ones((nt,1))-dev[:,0:2][dt[:,1]-1,:])*(lp-1+dt[:,0].reshape(dt.shape[0],1))\n",
    "    \n",
    "    \n",
    "    \n",
    "    #DERIVATIVES FOR SUMMANDS OF PARTIAL LOGLIKELIHOOD FUNCTION\n",
    "    \n",
    "    if modnum[2] == 1:\n",
    "    \n",
    "        for g in range(3,dm+1):\n",
    "\n",
    "            u = (np.array([d1v[:,(g-1)] + dev[0,(g-1)]]).T * np.ones((nt,1))-np.array([dev[:,(g-1)]]).T[dt[:,1]-1,:]) * (lp-1+dt[:,0].reshape(dt.shape[0],1))\n",
    "            d1v[:,(g-1)] = u.flatten()\n",
    "    \n",
    "    \n",
    "    #DERIVATIVES FOR SUMMANDS OF FULL LOGLIKELIHOOD FUNCTION \n",
    "    \n",
    "    elif modnum[2] == 2:\n",
    "            \n",
    "         for g in range(3,dm-int(modnum[4])+1):\n",
    "\n",
    "                u = (np.array([d1v[:,(g-1)] + dev[0,(g-1)]]).T * np.ones((nt,1))-np.array([dev[:,(g-1)]]).T[dt[:,1]-1,:]) * (lp-1+dt[:,0].reshape(dt.shape[0],1))\n",
    "                d1v[:,(g-1)] = u.flatten()\n",
    "        \n",
    "        \n",
    "        g = dm - int(modnum[4]) + 1\n",
    "        \n",
    "        d1v[:,(g-1):dm]=((dev[0,(g-1):dm]*np.ones((nt,1))-dev[:,(g-1):dm][dt[:,1]-1,:]))*(lp-1+dt[:,0].reshape(dt.shape[0],1)) + invp[dt[:,2],:]\n",
    "        \n",
    "    \n",
    "    \n",
    "   "
   ]
  },
  {
   "cell_type": "markdown",
   "metadata": {},
   "source": [
    "## CUMULATE"
   ]
  },
  {
   "cell_type": "code",
   "execution_count": 301,
   "metadata": {},
   "outputs": [],
   "source": [
    "#CUMULATE DERIVATIVES AND LOGLIKELIHOOD VALUES OVER SAMPLE POINTS\n",
    "#CUMULATE DERIVATIVES OF LOGLIKELIHOOD, dll \n",
    "\n",
    "dll = np.array([d1v.sum(axis=0)]).T + dll"
   ]
  },
  {
   "cell_type": "markdown",
   "metadata": {},
   "source": [
    "## BYPASS"
   ]
  },
  {
   "cell_type": "code",
   "execution_count": 417,
   "metadata": {},
   "outputs": [],
   "source": [
    "#FULL LOGLIKELIHOOD CUMULATION \n",
    "\n",
    "if modnum[2] == 2:\n",
    "    \n",
    "    ll =  ll + np.array([np.sum(np.array([list(map(cmath.log,(lp+(1-2*lp)*np.array([dt[:,0]]).T)))]).T +  lnp[dt[:,2],:], axis=0)]).T\n",
    "    \n",
    "\n",
    "#PARTIAL LOGLIKELIHOOD CUMULATION \n",
    "\n",
    "    ll =  ll + np.array([np.sum(np.array([list(map(cmath.log,(lp+(1-2*lp)*np.array([dt[:,0]]).T)))]).T, axis=0)]).T\n"
   ]
  },
  {
   "cell_type": "code",
   "execution_count": null,
   "metadata": {},
   "outputs": [],
   "source": []
  },
  {
   "cell_type": "code",
   "execution_count": 3,
   "metadata": {},
   "outputs": [],
   "source": [
    "dl = np.array([[2,4,6,8,10],[12,1,2,3,14],[16,18,20,22,24]])\n",
    "dt = np.array([[3,1,1],[4,2,2],[5,3,3]])\n",
    "dev = np.array([[1,2,3,4,5],[6,7,8,9,10],[11,12,13,14,15]])\n",
    "lp = np.array([[2],[4],[6]])\n",
    "lnp = np.array([[2,4,6],[8,10,12],[14,16,18],[20,22,24],[26,28,30]])\n",
    "invp = np.array([[1,2,3],[5,6,7],[9,10,11],[13,14,15],[17,18,19]])\n",
    "modnum = np.array([[0],[1],[2],[3],[1]])\n",
    "dll = np.array([[1,2,3],[4,5,6],[7,8,9],[10,11,12],[13,14,15]])\n",
    "dm = 4\n",
    "nt = 3\n",
    "d1v = dl\n",
    "g = 2"
   ]
  },
  {
   "cell_type": "code",
   "execution_count": null,
   "metadata": {},
   "outputs": [],
   "source": []
  },
  {
   "cell_type": "code",
   "execution_count": 250,
   "metadata": {},
   "outputs": [],
   "source": [
    "ev = np.array([[1,3,5],[7,9,11],[13,15,17]])\n",
    "dc = np.array([[2,4,6],[8,10,12],[14,16,18]])\n",
    "bet = 0.6"
   ]
  }
 ],
 "metadata": {
  "kernelspec": {
   "display_name": "Python 3",
   "language": "python",
   "name": "python3"
  },
  "language_info": {
   "codemirror_mode": {
    "name": "ipython",
    "version": 3
   },
   "file_extension": ".py",
   "mimetype": "text/x-python",
   "name": "python",
   "nbconvert_exporter": "python",
   "pygments_lexer": "ipython3",
   "version": "3.7.3"
  }
 },
 "nbformat": 4,
 "nbformat_minor": 2
}
