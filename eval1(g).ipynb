{
 "cells": [
  {
   "cell_type": "markdown",
   "metadata": {},
   "source": [
    "## EVAL1: evaluation of likelihood function and its derivatives. It differs from EVAL by the inclusion of the lagged dependent variable i(t-1)"
   ]
  },
  {
   "cell_type": "code",
   "execution_count": 60,
   "metadata": {},
   "outputs": [],
   "source": [
    "import numpy as np\n",
    "import cmath"
   ]
  },
  {
   "cell_type": "code",
   "execution_count": 531,
   "metadata": {},
   "outputs": [],
   "source": [
    "ev = np.array([[1,3,5],[7,9,11],[13,15,17]])\n",
    "c = np.array([[2,4,6],[8,10,12],[14,16,18]])\n",
    "bet = 0.6\n",
    "d1v = np.array([[-1,2,4],[-1,8,10],[-1,14,16]])\n",
    "dll = np.array([[1],[2],[3]])\n",
    "lp = np.array([[2],[4],[6]])\n",
    "pk = np.array([[3,5,7],[9,11,13],[15,17,19]])\n",
    "dt = np.array([[3,1,1,1],[4,2,2,2],[5,3,3,3]])\n",
    "q = np.array([[1,2,3],[4,5,6],[7,8,9],[10,11,12]])\n",
    "tr = np.array([[3,5,7],[9,11,13],[15,17,19]])\n",
    "lnp = np.array([[2,4,6],[8,10,12],[14,16,18],[20,22,24],[26,28,30]])\n",
    "dev = np.array([[1,2,3,4,5],[6,7,8,9,10],[11,12,13,14,15]])\n",
    "dm = 4\n",
    "g = 1\n",
    "modnum = np.array([[1,2,1,0,4]])\n",
    "dl = np.array([[2,4,6,8,10],[12,1,2,3,14],[16,18,20,22,24]])\n",
    "dc = np.array([[2,4,6],[8,10,12],[14,16,18]])\n",
    "invp = np.array([[1,2,3],[5,6,7],[9,10,11],[13,14,15],[17,18,19]])\n",
    "nt = 3"
   ]
  },
  {
   "cell_type": "code",
   "execution_count": 3,
   "metadata": {},
   "outputs": [],
   "source": [
    "def eval1_():\n",
    "    \n",
    "    #EVALUATE PROBABILITY OF KEEPING BUS ENGINE AT EACH SAMPLE POINT\n",
    "\n",
    "    if bet > 0:\n",
    "        lp1 = (1/(1+np.exp(c-bet*ev-tr-c[0,0]+bet*ev[0,0]+q[(dm-1),0])))[dt[:,1]-1,:]\n",
    "        \n",
    "    else:\n",
    "        lp1 = (1/(1+np.exp(c-tr-c[0,0]+q[dm-1,0])))[dt[:,1]-1,:]\n",
    "        \n",
    "    lp = pk[dt[:,1]-1,:]\n",
    "    \n",
    "    if i < 0:\n",
    "        #Go to loglik\n",
    "        print(\"Go to loglik\")\n",
    "        \n",
    "        \n",
    "    #COMPUTE DERIVATIVES OF LOGLIKELIHOOD FUNCTION\n",
    "    \n",
    "    \n",
    "    #CASE 1: ESTIMATE FULL LIKELIHOOD BUT NOT bet\n",
    "    \n",
    "    if (modnum[0,2:4].flatten() == np.array([[2,0]])).all():\n",
    "        \n",
    "        d1v = np.concatenate([-np.ones((nt,1)), dc[dt[:,1]-1,:], np.zeros((nt, modnum[0,4]))], axis=1)\n",
    "    \n",
    "    \n",
    "    #CASE 2: ESTIMATE FULL LIKELIHOOD AND bet\n",
    "        \n",
    "    elif (modnum[0,2:4].flatten() == np.array([[2,1]])).all():\n",
    "        \n",
    "        d1v = np.concatenate([(-np.ones((nt,1))), (dc[dt[:,1]-1,:]), (-bet*(1-bet)*(ev[0,0]-ev[dt[:,1]-1])), np.zeros((nt, modnum[0,4]))], axis=1)\n",
    "        \n",
    "   \n",
    "    #CASE 3: ESTIMATE NEITHER PARTIAL LIKELIHOOD NOR bet\n",
    "    \n",
    "    elif (modnum[0,2:4].flatten() == np.array([[1,0]])).all():\n",
    "        \n",
    "        d1v = np.concatenate([(-np.ones((nt,1))), dc[dt[:,1]-1,:],], axis=1)\n",
    "        \n",
    "    \n",
    "    #CASE 4: ESTIMATE PARTIAL LIKELIHOOD AND bet\n",
    "    \n",
    "    elif (modnum[0,2:4].flatten() == np.array([[1,1]])).all():\n",
    "        \n",
    "        d1v = np.concatenate([(-np.ones((nt,1))), (dc[dt[:,1]-1,:]),(-bet*(1-bet)*(ev[0,0]-ev[dt[:,1]-1,:]))], axis=1 )                 \n",
    "        \n",
    "    "
   ]
  },
  {
   "cell_type": "markdown",
   "metadata": {},
   "source": [
    "## loglik"
   ]
  },
  {
   "cell_type": "code",
   "execution_count": 302,
   "metadata": {
    "scrolled": true
   },
   "outputs": [
    {
     "name": "stdout",
     "output_type": "stream",
     "text": [
      "Go to bypass\n"
     ]
    }
   ],
   "source": [
    "    #CUMULATE LOGLIKELIHOOD FUNCTION\n",
    "\n",
    "    \n",
    "    #FULL LOGLIKELIHOOD FUNCTION\n",
    "\n",
    "    if modnum[0,2] == 2:\n",
    "        \n",
    "        ll = ll + np.array([np.sum(np.vectorize(cmath.log)(((lp+(1-2*lp)*np.array([dt[:,0]]).T)*np.array([dt[:,3]]).T+(lp1+(1-2*lp1)*np.array([dt[:,0]]).T)*(1-np.array([dt[:,3]]).T)))+ lnp[dt[:,2],:], axis=0)]).T\n",
    "\n",
    "    \n",
    "    #PARTIAL LOGLIKELIHOOD FUNCTION\n",
    "    \n",
    "    else:\n",
    "        \n",
    "        ll = ll + np.array([np.sum(np.vectorize(cmath.log)(((lp+(1-2*lp)*np.array([dt[:,0]]).T)*np.array([dt[:,3]]).T+(lp1+(1-2*lp1)*np.array([dt[:,0]]).T)*(1-np.array([dt[:,3]]).T))), axis=0)]).T\n",
    "        \n",
    "    \n",
    "    if i < 0:\n",
    "        \n",
    "        #Go to bypass\n",
    "        print(\"Go to bypass\")\n",
    "        \n",
    "    lp1 = ((lp-1+np.array([dt[:,0]]).T)*np.array([dt[:,3]]).T+(lp1-1+np.array([dt[:,0]]).T)*np.array([1-dt[:,3]]).T) \n",
    "    \n",
    "    \n",
    "    #ADD ON DERIVATIVES OF EXPECTED VALUE FUNCTION, BYPASS IF bet=0\n",
    "    \n",
    "    if bet == 0:\n",
    "        \n",
    "        d1v = d1v * lp1\n",
    "    \n",
    "        if modnum[0,2] == 2:\n",
    "            \n",
    "            g = dm - modnum[0,4]\n",
    "            d1v[:,g-1:dm-1] = invp[dt[:,2],:]\n",
    "            \n",
    "            \n",
    "        #Go to cumulate\n",
    "        print(\"Go to cumulate\")\n",
    "            "
   ]
  },
  {
   "cell_type": "code",
   "execution_count": 345,
   "metadata": {},
   "outputs": [],
   "source": [
    "    #FIRST TWO DERIVATIVES (tr,c1) ARE SAME FOR ALL MODELS\n",
    "\n",
    "#In Gauss, I removed a column from lp1 to make sure the matrices are comfortable and then checking if the outputs are the same.\n",
    "\n",
    "    d1v[:,0:2]=(d1v[:,0:2]+dev[0,0:2] * np.ones((nt,1))-dev[:,0:2][dt[:,1]-1,:])*lp1\n",
    "\n",
    "\n",
    "    #DERIVATIVES FOR SUMMANDS OF PARTIAL LOGLIKELIHOOD FUNCTION\n",
    "    \n",
    "    if modnum[0,2] == 1:\n",
    "        \n",
    "        for g in range(3, dm):\n",
    "            u = (((np.array([d1v[:,(g-1)]]).T) + (np.array([dev[0,(g-1)]]).T)*np.ones((nt,1)))-(np.array([dev[:,(g-1)]]).T)[dt[:,1]-1,:])*lp1\n",
    "            d1v[:,(g-1)] = u.flatten()\n",
    "            \n",
    "    elif modnum[0,2] == 2:\n",
    "        \n",
    "        for g in range(3,dm-modnum[0,4]):\n",
    "            u = (d1v[:,(g-1)]+ dev[0,(g-1)]*np.ones(nt,1)-dev[:,(g-1)][dt[:,1]-1,:])*lp1\n",
    "            d1v[:,(g-1)] = u.flatten()\n",
    "        \n",
    "        \n",
    "        g = dm-int(modnum[0,4])\n",
    "        d1v[:,(g-1):(dm-1)]=(dev[0,(g-1):(dm-1)]*np.ones((nt,1))-dev[:,(g-1):dm-1][dt[:,1]-1,:])*lp1+invp[dt[:,2],:]\n"
   ]
  },
  {
   "cell_type": "markdown",
   "metadata": {},
   "source": [
    "## CUMULATE"
   ]
  },
  {
   "cell_type": "code",
   "execution_count": null,
   "metadata": {
    "scrolled": false
   },
   "outputs": [],
   "source": [
    "#CUMULATE DERIVATIVES OF LOGLIKELIHOOD FUNCTION\n",
    "\n",
    "d1v = np.concatenate([d1v, ((1-np.array([dt[:,3]])).T*lp1)], axis=1)\n",
    "\n",
    "dll = dll + np.array([np.sum(d1v, axis=0)]).T"
   ]
  },
  {
   "cell_type": "markdown",
   "metadata": {},
   "source": [
    "## BYPASS"
   ]
  },
  {
   "cell_type": "code",
   "execution_count": 537,
   "metadata": {},
   "outputs": [
    {
     "name": "stdout",
     "output_type": "stream",
     "text": [
      "bypass:\n"
     ]
    }
   ],
   "source": [
    "print(\"bypass:\")\n",
    "\n",
    "#end of the procedure"
   ]
  }
 ],
 "metadata": {
  "kernelspec": {
   "display_name": "Python 3",
   "language": "python",
   "name": "python3"
  },
  "language_info": {
   "codemirror_mode": {
    "name": "ipython",
    "version": 3
   },
   "file_extension": ".py",
   "mimetype": "text/x-python",
   "name": "python",
   "nbconvert_exporter": "python",
   "pygments_lexer": "ipython3",
   "version": "3.7.3"
  }
 },
 "nbformat": 4,
 "nbformat_minor": 2
}
